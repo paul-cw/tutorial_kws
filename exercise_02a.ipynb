{
 "cells": [
  {
   "cell_type": "markdown",
   "id": "1c348236",
   "metadata": {},
   "source": [
    "# Neural networks for audio classification\n",
    "\n",
    "## Part 1: Dataset inspection\n",
    "\n",
    "The first step is always visualising our data. We have ignored this for the sake of having more time for audio processing so far. We will load a dataframe that contains metadata about our dataset as well as the file paths and investigate it in this section."
   ]
  },
  {
   "cell_type": "code",
   "execution_count": 1,
   "id": "06ed9a40",
   "metadata": {},
   "outputs": [],
   "source": [
    "%matplotlib inline"
   ]
  },
  {
   "cell_type": "code",
   "execution_count": 2,
   "id": "b0ceaf3d",
   "metadata": {
    "id": "herbal-gentleman"
   },
   "outputs": [],
   "source": [
    "from config import *\n",
    "import pandas as pd\n",
    "from utility import keep_only_n_unknowns, pad_signal, augment_audio, get_callbacks\n",
    "import matplotlib.pyplot as plt"
   ]
  },
  {
   "cell_type": "code",
   "execution_count": 3,
   "id": "22eaa7c0",
   "metadata": {},
   "outputs": [
    {
     "name": "stdout",
     "output_type": "stream",
     "text": [
      "<class 'pandas.core.frame.DataFrame'>\n",
      "Int64Index: 80945 entries, 0 to 80944\n",
      "Data columns (total 6 columns):\n",
      " #   Column         Non-Null Count  Dtype \n",
      "---  ------         --------------  ----- \n",
      " 0   file_path      80945 non-null  object\n",
      " 1   keyword        80945 non-null  object\n",
      " 2   dataset        80945 non-null  object\n",
      " 3   speaker_id     80945 non-null  object\n",
      " 4   speaker_ut     80945 non-null  object\n",
      " 5   label_one_hot  80945 non-null  object\n",
      "dtypes: object(6)\n",
      "memory usage: 4.3+ MB\n"
     ]
    }
   ],
   "source": [
    "## Load the dataframe\n",
    "df_all = pd.read_pickle(data_dir + 'df_all.pkl')\n",
    "df_all.info()"
   ]
  },
  {
   "cell_type": "markdown",
   "id": "9f9fa9b1",
   "metadata": {
    "id": "2c4a3264",
    "jp-MarkdownHeadingCollapsed": true,
    "tags": []
   },
   "source": [
    "## Exercise 1\n",
    "1. Visualize the dataset. How are the recordings distributed in terms of **\"keyword\"** and **\"speaker_id\"**? Are there many different speakers?\n",
    "2. Would you adjust the class distribution? Set the \"balance_out\" variable to **True** or **False**."
   ]
  },
  {
   "cell_type": "markdown",
   "id": "3b4d7c15",
   "metadata": {
    "jp-MarkdownHeadingCollapsed": true,
    "tags": []
   },
   "source": [
    "## Hints\n",
    "- Useful commands **-** df.describe, df['column'].value_counts\n",
    "- Single columns can be selected by passing their name as a string: df['name']\n",
    "- Columns of dataframes can be selected by passing a list of strings: df[name_list]\n",
    "- A pandas series object (column of a data frame) has a **\"plot\"** method that can be helpful, **Use:**  `.plot(kind='bar')`."
   ]
  },
  {
   "cell_type": "markdown",
   "id": "af38eb14",
   "metadata": {
    "id": "0c4efc76",
    "tags": []
   },
   "source": [
    "## Solution"
   ]
  },
  {
   "cell_type": "markdown",
   "id": "49c12890",
   "metadata": {},
   "source": [
    "### E1 \n",
    "1. The **\"describe\"** command below shows, that we have something like $2500$ unique speakers with roughly a maximum of $25$ (speak_ut unique value) utterances per keyword each. The **freq** column also tells us that our top recording speaker has $232$ recordings over all keywords."
   ]
  },
  {
   "cell_type": "code",
   "execution_count": 4,
   "id": "f019b717",
   "metadata": {
    "colab": {
     "base_uri": "https://localhost:8080/",
     "height": 175
    },
    "id": "efd37ed6",
    "outputId": "cd139470-f9b8-4052-b351-9b4e311eba03"
   },
   "outputs": [
    {
     "data": {
      "text/html": [
       "<div>\n",
       "<style scoped>\n",
       "    .dataframe tbody tr th:only-of-type {\n",
       "        vertical-align: middle;\n",
       "    }\n",
       "\n",
       "    .dataframe tbody tr th {\n",
       "        vertical-align: top;\n",
       "    }\n",
       "\n",
       "    .dataframe thead th {\n",
       "        text-align: right;\n",
       "    }\n",
       "</style>\n",
       "<table border=\"1\" class=\"dataframe\">\n",
       "  <thead>\n",
       "    <tr style=\"text-align: right;\">\n",
       "      <th></th>\n",
       "      <th>keyword</th>\n",
       "      <th>speaker_id</th>\n",
       "      <th>speaker_ut</th>\n",
       "    </tr>\n",
       "  </thead>\n",
       "  <tbody>\n",
       "    <tr>\n",
       "      <th>count</th>\n",
       "      <td>80945</td>\n",
       "      <td>80945</td>\n",
       "      <td>80945</td>\n",
       "    </tr>\n",
       "    <tr>\n",
       "      <th>unique</th>\n",
       "      <td>12</td>\n",
       "      <td>2589</td>\n",
       "      <td>24</td>\n",
       "    </tr>\n",
       "    <tr>\n",
       "      <th>top</th>\n",
       "      <td>unknown</td>\n",
       "      <td>c50f55b8</td>\n",
       "      <td>0</td>\n",
       "    </tr>\n",
       "    <tr>\n",
       "      <th>freq</th>\n",
       "      <td>38546</td>\n",
       "      <td>232</td>\n",
       "      <td>35120</td>\n",
       "    </tr>\n",
       "  </tbody>\n",
       "</table>\n",
       "</div>"
      ],
      "text/plain": [
       "        keyword speaker_id speaker_ut\n",
       "count     80945      80945      80945\n",
       "unique       12       2589         24\n",
       "top     unknown   c50f55b8          0\n",
       "freq      38546        232      35120"
      ]
     },
     "execution_count": 4,
     "metadata": {},
     "output_type": "execute_result"
    }
   ],
   "source": [
    "## select the columns of interest and print some statistics\n",
    "df_all[['keyword', 'speaker_id', 'speaker_ut']].describe()"
   ]
  },
  {
   "cell_type": "code",
   "execution_count": 5,
   "id": "05ec7ee5",
   "metadata": {
    "colab": {
     "base_uri": "https://localhost:8080/",
     "height": 319
    },
    "id": "b57dd25f",
    "outputId": "df82cf9c-4215-4c0e-e7fc-9d29a26fcea5"
   },
   "outputs": [
    {
     "data": {
      "image/png": "[encoded data removed]",
      "text/plain": [
       "<Figure size 432x288 with 1 Axes>"
      ]
     },
     "metadata": {
      "needs_background": "light"
     },
     "output_type": "display_data"
    }
   ],
   "source": [
    "## for all speakers, plot the keyword distribution as histogram\n",
    "df_all['keyword'].value_counts().plot(kind='bar');"
   ]
  },
  {
   "cell_type": "markdown",
   "id": "4a418f06",
   "metadata": {},
   "source": [
    "### E2\n",
    "We can see from the bar chart that we have many examples of the **unknown** keyword and the other classes are well balanced. Well balanced datasets are always preferable since the model training might be influenced by the inbalanced data distribution. "
   ]
  },
  {
   "cell_type": "code",
   "execution_count": 6,
   "id": "af31b6b1",
   "metadata": {},
   "outputs": [],
   "source": [
    "balance_out = True"
   ]
  },
  {
   "cell_type": "markdown",
   "id": "630511fe",
   "metadata": {
    "id": "d8e963f7"
   },
   "source": [
    "## Part 2: Data loading\n",
    "\n",
    "We need to set up a pipeline that loads the data into memory and provides it to Keras `model.fit()` function that will later perform the training. But first we will split our dataset into $3$ distinct sets. This will be useful for training later. "
   ]
  },
  {
   "cell_type": "markdown",
   "id": "0817ff20",
   "metadata": {},
   "source": [
    "## Train-test split\n",
    "The dataset has already been split up for us into train, test and evaluation set. We will train the model on the training set and evaluate its performance on the evaluation set later."
   ]
  },
  {
   "cell_type": "code",
   "execution_count": 7,
   "id": "f26b81dc",
   "metadata": {},
   "outputs": [
    {
     "name": "stdout",
     "output_type": "stream",
     "text": [
      "new dataframe has  4239 unknown utterances\n"
     ]
    }
   ],
   "source": [
    "## Balance out the dataset\n",
    "if balance_out:\n",
    "    df_all = keep_only_n_unknowns(df_all, 10)\n",
    "    df_all.keyword.value_counts()"
   ]
  },
  {
   "cell_type": "code",
   "execution_count": 8,
   "id": "01a09959",
   "metadata": {},
   "outputs": [
    {
     "data": {
      "image/png": "[encoded data removed]",
      "text/plain": [
       "<Figure size 432x288 with 1 Axes>"
      ]
     },
     "metadata": {
      "needs_background": "light"
     },
     "output_type": "display_data"
    }
   ],
   "source": [
    "df_all['keyword'].value_counts().plot(kind='bar');"
   ]
  },
  {
   "cell_type": "code",
   "execution_count": 9,
   "id": "0997568d-6be7-494d-9e74-9ff40cbd12f3",
   "metadata": {},
   "outputs": [],
   "source": [
    "#pd.read_pickle(data_dir + 'df_all.pkl')\n",
    "df_all.to_pickle(data_dir + 'df_all_balanced_split.pkl')"
   ]
  },
  {
   "cell_type": "code",
   "execution_count": null,
   "id": "0d7ff82a-e16c-4eea-89cd-096bf4257080",
   "metadata": {},
   "outputs": [],
   "source": []
  },
  {
   "cell_type": "code",
   "execution_count": null,
   "id": "02386f79",
   "metadata": {},
   "outputs": [],
   "source": []
  }
 ],
 "metadata": {
  "colab": {
   "collapsed_sections": [
    "8aab069b"
   ],
   "name": "Kopie von 00_all_in_one_kws.ipynb",
   "provenance": [],
   "toc_visible": true
  },
  "kernelspec": {
   "display_name": "Python 3 (ipykernel)",
   "language": "python",
   "name": "python3"
  },
  "language_info": {
   "codemirror_mode": {
    "name": "ipython",
    "version": 3
   },
   "file_extension": ".py",
   "mimetype": "text/x-python",
   "name": "python",
   "nbconvert_exporter": "python",
   "pygments_lexer": "ipython3",
   "version": "3.9.17"
  }
 },
 "nbformat": 4,
 "nbformat_minor": 5
}
